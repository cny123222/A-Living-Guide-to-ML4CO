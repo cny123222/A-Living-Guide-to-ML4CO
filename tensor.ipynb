{
 "cells": [
  {
   "cell_type": "markdown",
   "id": "413c88b1",
   "metadata": {},
   "source": [
    "# Fancy but Useful Tensor Operations"
   ]
  },
  {
   "cell_type": "code",
   "execution_count": 1,
   "id": "911d1d42",
   "metadata": {},
   "outputs": [],
   "source": [
    "import torch\n",
    "import numpy as np\n",
    "assert torch.cuda.is_available(), \"CUDA is not available\""
   ]
  },
  {
   "cell_type": "markdown",
   "id": "a6559b45",
   "metadata": {},
   "source": [
    "## 基础语法\n",
    "\n",
    "### 创建操作\n",
    "\n",
    "#### 和 NumPy 数组的转换"
   ]
  },
  {
   "cell_type": "code",
   "execution_count": 2,
   "id": "0e4e66ad",
   "metadata": {},
   "outputs": [
    {
     "name": "stdout",
     "output_type": "stream",
     "text": [
      "Original PyTorch tensor: tensor([1, 2, 3])\n",
      "Tensor after modifying NumPy array: tensor([10,  2,  3])\n"
     ]
    }
   ],
   "source": [
    "# 使用 `torch.from_numpy()` (共享内存)\n",
    "a_array = np.array([1, 2, 3])\n",
    "a_tensor = torch.from_numpy(a_array)\n",
    "print(\"Original PyTorch tensor:\", a_tensor)\n",
    "a_array[0] = 10  # 修改 NumPy 数组\n",
    "print(\"Tensor after modifying NumPy array:\", a_tensor)"
   ]
  },
  {
   "cell_type": "code",
   "execution_count": 3,
   "id": "f0ea33a8",
   "metadata": {},
   "outputs": [
    {
     "name": "stdout",
     "output_type": "stream",
     "text": [
      "Original PyTorch tensor:\n",
      "tensor([[1, 2],\n",
      "        [3, 4]])\n",
      "Tensor after modifying NumPy array:\n",
      "tensor([[1, 2],\n",
      "        [3, 4]])\n"
     ]
    }
   ],
   "source": [
    "# 使用 `torch.tensor()` (复制内存)\n",
    "b_array = np.array([[1, 2], [3, 4]])\n",
    "b_tensor = torch.tensor(b_array)\n",
    "print(\"Original PyTorch tensor:\")\n",
    "print(b_tensor)\n",
    "b_array[0, 0] = 10  # 修改 NumPy 数组\n",
    "print(\"Tensor after modifying NumPy array:\")\n",
    "print(b_tensor)"
   ]
  },
  {
   "cell_type": "code",
   "execution_count": 4,
   "id": "325acf7c",
   "metadata": {},
   "outputs": [
    {
     "name": "stdout",
     "output_type": "stream",
     "text": [
      "can't convert cuda:0 device type tensor to numpy. Use Tensor.cpu() to copy the tensor to host memory first.\n",
      "NumPy array from CPU tensor: [1 2 3]\n"
     ]
    }
   ],
   "source": [
    "# 从 Tensor 转换为 NumPy 数组\n",
    "c_tensor = torch.tensor([1, 2, 3], device='cuda')  # 创建一个在 GPU 上的 Tensor\n",
    "try: # GPU 上的 Tensor 不能直接转换为 NumPy 数组\n",
    "    c_array = c_tensor.numpy()\n",
    "except Exception as e:\n",
    "    print(e)\n",
    "c_array = c_tensor.cpu().numpy()\n",
    "print(\"NumPy array from CPU tensor:\", c_array)"
   ]
  },
  {
   "cell_type": "markdown",
   "id": "e2dc9550",
   "metadata": {},
   "source": [
    "#### 特殊 Tensor 构造"
   ]
  },
  {
   "cell_type": "code",
   "execution_count": 5,
   "id": "3d2387ea",
   "metadata": {},
   "outputs": [
    {
     "name": "stdout",
     "output_type": "stream",
     "text": [
      "Random tensor a:\n",
      "tensor([[0.3153, 0.5619, 0.6735],\n",
      "        [0.0528, 0.4526, 0.2872]])\n",
      "\n",
      "Tensor b with same shape as a:\n",
      "tensor([[0., 0., 0.],\n",
      "        [0., 0., 0.]])\n"
     ]
    }
   ],
   "source": [
    "a = torch.rand(2, 3)\n",
    "print(\"Random tensor a:\")\n",
    "print(a)\n",
    "\n",
    "b = torch.zeros_like(a)\n",
    "print(\"\\nTensor b with same shape as a:\")\n",
    "print(b)"
   ]
  },
  {
   "cell_type": "code",
   "execution_count": 6,
   "id": "236ebf5e",
   "metadata": {},
   "outputs": [
    {
     "name": "stdout",
     "output_type": "stream",
     "text": [
      "Tensor a: tensor([1, 3, 5])\n"
     ]
    }
   ],
   "source": [
    "a = torch.arange(1, 6, 2)\n",
    "print(\"Tensor a:\", a)"
   ]
  },
  {
   "cell_type": "markdown",
   "id": "3b10bc42",
   "metadata": {},
   "source": [
    "### 基本属性"
   ]
  },
  {
   "cell_type": "code",
   "execution_count": 7,
   "id": "0eb4b5a7",
   "metadata": {},
   "outputs": [
    {
     "name": "stdout",
     "output_type": "stream",
     "text": [
      "Rank of a: 3\n",
      "Shape of a: torch.Size([2, 3, 4])\n",
      "Shape of dim 1: 3\n",
      "Datatype of a: torch.float32\n",
      "Device of a: cuda:0\n"
     ]
    }
   ],
   "source": [
    "a = torch.zeros(2, 3, 4, device='cuda')\n",
    "print(\"Rank of a:\", a.dim())\n",
    "print(\"Shape of a:\", a.shape)\n",
    "print(\"Shape of dim 1:\", a.shape[1])\n",
    "print(\"Datatype of a:\", a.dtype)\n",
    "print(\"Device of a:\", a.device)"
   ]
  },
  {
   "cell_type": "markdown",
   "id": "438aa85a",
   "metadata": {},
   "source": [
    "### 数据类型及设备"
   ]
  },
  {
   "cell_type": "code",
   "execution_count": 8,
   "id": "4ceb98d8",
   "metadata": {},
   "outputs": [
    {
     "name": "stdout",
     "output_type": "stream",
     "text": [
      "x0.dtype: torch.float16\n",
      "x0.device: cpu\n",
      "x1.dtype: torch.float32\n",
      "x2.dtype: torch.int64\n",
      "x3.dtype: torch.int32\n",
      "x4.device: cuda:0\n"
     ]
    }
   ],
   "source": [
    "x0 = torch.zeros(2, 3, dtype=torch.float16, device='cpu')\n",
    "print(\"x0.dtype:\", x0.dtype)\n",
    "print(\"x0.device:\", x0.device)\n",
    "x1 = x0.float()\n",
    "print(\"x1.dtype:\", x1.dtype)\n",
    "x2 = x0.long()\n",
    "print(\"x2.dtype:\", x2.dtype)\n",
    "x3 = x0.to(torch.int32)\n",
    "print(\"x3.dtype:\", x3.dtype)\n",
    "x4 = x0.to(\"cuda\")\n",
    "print(\"x4.device:\", x4.device)"
   ]
  },
  {
   "cell_type": "markdown",
   "id": "b08537fa",
   "metadata": {},
   "source": [
    "## 索引操作\n",
    "\n",
    "### 单元素索引"
   ]
  },
  {
   "cell_type": "code",
   "execution_count": 9,
   "id": "cb962ca2",
   "metadata": {},
   "outputs": [
    {
     "name": "stdout",
     "output_type": "stream",
     "text": [
      "a[0, 1]: tensor(2)\n",
      "a[0, 1].item(): 2\n"
     ]
    }
   ],
   "source": [
    "a = torch.tensor([[1, 2, 3], [4, 5, 6]])\n",
    "print(\"a[0, 1]:\", a[0, 1])\n",
    "print(\"a[0, 1].item():\", a[0, 1].item())"
   ]
  },
  {
   "cell_type": "markdown",
   "id": "a5168dd4",
   "metadata": {},
   "source": [
    "### 切片索引"
   ]
  },
  {
   "cell_type": "markdown",
   "id": "0bc5bb4f",
   "metadata": {},
   "source": []
  }
 ],
 "metadata": {
  "kernelspec": {
   "display_name": "ml4co_cny",
   "language": "python",
   "name": "python3"
  },
  "language_info": {
   "codemirror_mode": {
    "name": "ipython",
    "version": 3
   },
   "file_extension": ".py",
   "mimetype": "text/x-python",
   "name": "python",
   "nbconvert_exporter": "python",
   "pygments_lexer": "ipython3",
   "version": "3.8.18"
  }
 },
 "nbformat": 4,
 "nbformat_minor": 5
}
