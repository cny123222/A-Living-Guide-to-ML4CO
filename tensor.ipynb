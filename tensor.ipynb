{
 "cells": [
  {
   "cell_type": "markdown",
   "id": "413c88b1",
   "metadata": {},
   "source": [
    "# Fancy but Useful Tensor Operations"
   ]
  },
  {
   "cell_type": "code",
   "execution_count": 2,
   "id": "911d1d42",
   "metadata": {},
   "outputs": [],
   "source": [
    "import torch\n",
    "import numpy as np"
   ]
  },
  {
   "cell_type": "markdown",
   "id": "a6559b45",
   "metadata": {},
   "source": [
    "## 基础语法\n",
    "\n",
    "### 创建操作\n",
    "\n",
    "#### 和 NumPy 数组的转换"
   ]
  },
  {
   "cell_type": "code",
   "execution_count": 8,
   "id": "0e4e66ad",
   "metadata": {},
   "outputs": [
    {
     "name": "stdout",
     "output_type": "stream",
     "text": [
      "Original PyTorch tensor: tensor([1, 2, 3])\n",
      "Tensor after modifying NumPy array: tensor([10,  2,  3])\n"
     ]
    }
   ],
   "source": [
    "# 使用 `torch.from_numpy()` (共享内存)\n",
    "a_array = np.array([1, 2, 3])\n",
    "a_tensor = torch.from_numpy(a_array)\n",
    "print(\"Original PyTorch tensor:\", a_tensor)\n",
    "a_array[0] = 10  # 修改 NumPy 数组\n",
    "print(\"Tensor after modifying NumPy array:\", a_tensor)"
   ]
  },
  {
   "cell_type": "code",
   "execution_count": 10,
   "id": "f0ea33a8",
   "metadata": {},
   "outputs": [
    {
     "name": "stdout",
     "output_type": "stream",
     "text": [
      "Original PyTorch tensor:\n",
      "tensor([[1, 2],\n",
      "        [3, 4]])\n",
      "Tensor after modifying NumPy array:\n",
      "tensor([[1, 2],\n",
      "        [3, 4]])\n"
     ]
    }
   ],
   "source": [
    "# 使用 `torch.tensor()` (复制内存)\n",
    "b_array = np.array([[1, 2], [3, 4]])\n",
    "b_tensor = torch.tensor(b_array)\n",
    "print(\"Original PyTorch tensor:\")\n",
    "print(b_tensor)\n",
    "b_array[0, 0] = 10  # 修改 NumPy 数组\n",
    "print(\"Tensor after modifying NumPy array:\")\n",
    "print(b_tensor)"
   ]
  },
  {
   "cell_type": "code",
   "execution_count": 11,
   "id": "325acf7c",
   "metadata": {},
   "outputs": [
    {
     "name": "stdout",
     "output_type": "stream",
     "text": [
      "can't convert cuda:0 device type tensor to numpy. Use Tensor.cpu() to copy the tensor to host memory first.\n",
      "NumPy array from CPU tensor: [1 2 3]\n"
     ]
    }
   ],
   "source": [
    "# 从 Tensor 转换为 NumPy 数组\n",
    "assert torch.cuda.is_available(), \"CUDA is not available\"\n",
    "c_tensor = torch.tensor([1, 2, 3], device='cuda')  # 创建一个在 GPU 上的 Tensor\n",
    "try: # GPU 上的 Tensor 不能直接转换为 NumPy 数组\n",
    "    c_array = c_tensor.numpy()\n",
    "except Exception as e:\n",
    "    print(e)\n",
    "c_array = c_tensor.cpu().numpy()\n",
    "print(\"NumPy array from CPU tensor:\", c_array)"
   ]
  },
  {
   "cell_type": "markdown",
   "id": "e2dc9550",
   "metadata": {},
   "source": [
    "#### 特殊 Tensor 构造"
   ]
  },
  {
   "cell_type": "code",
   "execution_count": 6,
   "id": "3d2387ea",
   "metadata": {},
   "outputs": [
    {
     "name": "stdout",
     "output_type": "stream",
     "text": [
      "Tensor of zeros:\n",
      "tensor([[0., 0.]])\n",
      "\n",
      "Tensor of ones:\n",
      "tensor([[1., 1., 1.],\n",
      "        [1., 1., 1.]])\n",
      "\n",
      "Random Tensor:\n",
      "tensor([[0.0978, 0.7573, 0.7558, 0.5040],\n",
      "        [0.0750, 0.7821, 0.8679, 0.0630],\n",
      "        [0.6995, 0.3050, 0.4670, 0.4738]])\n"
     ]
    }
   ],
   "source": [
    "# 构造全 0 的 Tensor\n",
    "a = torch.zeros(1, 2)\n",
    "print(\"Tensor of zeros:\")\n",
    "print(a)\n",
    "\n",
    "# 构造全 1 的 Tensor\n",
    "b = torch.ones(2, 3)\n",
    "print(\"\\nTensor of ones:\")\n",
    "print(b)\n",
    "\n",
    "# 构造随机 Tensor\n",
    "c = torch.rand(3, 4)\n",
    "print(\"\\nRandom Tensor:\")\n",
    "print(c)"
   ]
  },
  {
   "cell_type": "markdown",
   "id": "3b10bc42",
   "metadata": {},
   "source": [
    "### 基本属性"
   ]
  },
  {
   "cell_type": "code",
   "execution_count": 12,
   "id": "0eb4b5a7",
   "metadata": {},
   "outputs": [
    {
     "name": "stdout",
     "output_type": "stream",
     "text": [
      "Rank of a: 3\n",
      "Shape of a: torch.Size([1, 2, 3])\n",
      "Shape of dim 1: 2\n",
      "Device of a: cuda:0\n"
     ]
    }
   ],
   "source": [
    "assert torch.cuda.is_available(), \"CUDA is not available\"\n",
    "a = torch.tensor([[[1, 2, 3], [4, 5, 6]]], device='cuda')\n",
    "print(\"Rank of a:\", a.dim())\n",
    "print(\"Shape of a:\", a.shape)\n",
    "print(\"Shape of dim 1:\", a.shape[1])\n",
    "print(\"Device of a:\", a.device)"
   ]
  },
  {
   "cell_type": "code",
   "execution_count": null,
   "id": "438aa85a",
   "metadata": {},
   "outputs": [],
   "source": []
  }
 ],
 "metadata": {
  "kernelspec": {
   "display_name": "ml4co_cny",
   "language": "python",
   "name": "python3"
  },
  "language_info": {
   "codemirror_mode": {
    "name": "ipython",
    "version": 3
   },
   "file_extension": ".py",
   "mimetype": "text/x-python",
   "name": "python",
   "nbconvert_exporter": "python",
   "pygments_lexer": "ipython3",
   "version": "3.8.18"
  }
 },
 "nbformat": 4,
 "nbformat_minor": 5
}
