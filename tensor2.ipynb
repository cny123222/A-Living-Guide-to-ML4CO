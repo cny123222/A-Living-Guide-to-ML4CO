{
 "cells": [
  {
   "cell_type": "markdown",
   "id": "1ab97d4b",
   "metadata": {},
   "source": [
    "# Fancy but Useful Tensor Operations"
   ]
  },
  {
   "cell_type": "code",
   "execution_count": 1,
   "id": "68cc7613",
   "metadata": {},
   "outputs": [],
   "source": [
    "import torch\n",
    "import numpy as np"
   ]
  },
  {
   "cell_type": "markdown",
   "id": "a1d73a45",
   "metadata": {},
   "source": [
    "## 增减维度：squeeze & unsqueeze"
   ]
  },
  {
   "cell_type": "code",
   "execution_count": null,
   "id": "e8828a18",
   "metadata": {},
   "outputs": [
    {
     "name": "stdout",
     "output_type": "stream",
     "text": [
      "Original tensor:\n",
      "tensor([1, 2, 3]) torch.Size([3])\n",
      "\n",
      "Add a new dimension at position 0:\n",
      "tensor([[1, 2, 3]]) torch.Size([1, 3])\n",
      "\n",
      "Add a new dimension at position 1:\n",
      "tensor([[1],\n",
      "        [2],\n",
      "        [3]]) torch.Size([3, 1])\n"
     ]
    }
   ],
   "source": [
    "x0 = torch.tensor([1, 2, 3])\n",
    "print(\"Original tensor:\")\n",
    "print(x0, x0.shape)\n",
    "\n",
    "# Add a new dimension at position 0\n",
    "x1 = x0.unsqueeze(0)\n",
    "print(\"\\nAdd a new dimension at position 0:\")\n",
    "print(x1, x1.shape)\n",
    "\n",
    "# Add a new dimension at position 1\n",
    "x2 = x0.unsqueeze(1)\n",
    "print(\"\\nAdd a new dimension at position 1:\")\n",
    "print(x2, x2.shape)"
   ]
  },
  {
   "cell_type": "code",
   "execution_count": 9,
   "id": "a4c39317",
   "metadata": {},
   "outputs": [
    {
     "name": "stdout",
     "output_type": "stream",
     "text": [
      "Original tensor shape: torch.Size([1, 3, 1, 5])\n",
      "\n",
      "Shape after removing all dimensions of size 1: torch.Size([3, 5])\n",
      "\n",
      "Shape after removing dim=0: torch.Size([3, 1, 5])\n"
     ]
    }
   ],
   "source": [
    "y0 = torch.rand(1, 3, 1, 5)\n",
    "print(\"Original tensor shape:\", y0.shape)\n",
    "\n",
    "# Remove all dimensions of size 1\n",
    "y1 = y0.squeeze()\n",
    "print(\"\\nShape after removing all dimensions of size 1:\", y1.shape)\n",
    "\n",
    "# Remove dimension at position 0\n",
    "y2 = y0.squeeze(0)\n",
    "print(\"\\nShape after removing dim=0:\", y2.shape)"
   ]
  },
  {
   "cell_type": "markdown",
   "id": "7ce60290",
   "metadata": {},
   "source": [
    "## 合并张量：cat & stack"
   ]
  },
  {
   "cell_type": "code",
   "execution_count": 14,
   "id": "ee16f92f",
   "metadata": {},
   "outputs": [
    {
     "name": "stdout",
     "output_type": "stream",
     "text": [
      "Original tensors:\n",
      "tensor([[1, 2, 3],\n",
      "        [4, 5, 6]]) torch.Size([2, 3])\n",
      "tensor([[ 7,  8,  9],\n",
      "        [10, 11, 12]]) torch.Size([2, 3])\n",
      "\n",
      "Concatenated on dim=0:\n",
      "tensor([[ 1,  2,  3],\n",
      "        [ 4,  5,  6],\n",
      "        [ 7,  8,  9],\n",
      "        [10, 11, 12]]) torch.Size([4, 3])\n",
      "\n",
      "Concatenated on dim=1:\n",
      "tensor([[ 1,  2,  3,  7,  8,  9],\n",
      "        [ 4,  5,  6, 10, 11, 12]]) torch.Size([2, 6])\n"
     ]
    }
   ],
   "source": [
    "t1 = torch.tensor([[1, 2, 3],\n",
    "                   [4, 5, 6]])\n",
    "t2 = torch.tensor([[7, 8, 9],\n",
    "                   [10, 11, 12]])\n",
    "print(\"Original tensors:\")\n",
    "print(t1, t1.shape)\n",
    "print(t2, t2.shape)\n",
    "\n",
    "# Concatenate t1 and t2 along dimension 0\n",
    "t3 = torch.cat((t1, t2), dim=0)\n",
    "print(\"\\nConcatenated on dim=0:\")\n",
    "print(t3, t3.shape)\n",
    "\n",
    "# Concatenate t1 and t2 along dimension 1\n",
    "t4 = torch.cat((t1, t2), dim=1)\n",
    "print(\"\\nConcatenated on dim=1:\")\n",
    "print(t4, t4.shape)"
   ]
  },
  {
   "cell_type": "code",
   "execution_count": 15,
   "id": "94fd639a",
   "metadata": {},
   "outputs": [
    {
     "name": "stdout",
     "output_type": "stream",
     "text": [
      "Original tensors:\n",
      "tensor([[1, 2, 3],\n",
      "        [4, 5, 6],\n",
      "        [7, 8, 9]]) torch.Size([3, 3])\n",
      "tensor([[10, 11, 12],\n",
      "        [13, 14, 15],\n",
      "        [16, 17, 18]]) torch.Size([3, 3])\n",
      "\n",
      "Stacked on dim=0:\n",
      "tensor([[[ 1,  2,  3],\n",
      "         [ 4,  5,  6],\n",
      "         [ 7,  8,  9]],\n",
      "\n",
      "        [[10, 11, 12],\n",
      "         [13, 14, 15],\n",
      "         [16, 17, 18]]]) torch.Size([2, 3, 3])\n",
      "\n",
      "Stacked on dim=1:\n",
      "tensor([[[ 1,  2,  3],\n",
      "         [10, 11, 12]],\n",
      "\n",
      "        [[ 4,  5,  6],\n",
      "         [13, 14, 15]],\n",
      "\n",
      "        [[ 7,  8,  9],\n",
      "         [16, 17, 18]]]) torch.Size([3, 2, 3])\n"
     ]
    }
   ],
   "source": [
    "t1 = torch.tensor([[1, 2, 3],\n",
    "                   [4, 5, 6],\n",
    "                   [7, 8, 9]])\n",
    "t2 = torch.tensor([[10, 11, 12],\n",
    "                   [13, 14, 15],\n",
    "                   [16, 17, 18]])\n",
    "print(\"Original tensors:\")\n",
    "print(t1, t1.shape)\n",
    "print(t2, t2.shape)\n",
    "\n",
    "# Stack t1 and t2 along dimension 0\n",
    "t3 = torch.stack((t1, t2), dim=0)\n",
    "print(\"\\nStacked on dim=0:\")\n",
    "print(t3, t3.shape)\n",
    "\n",
    "# Stack t1 and t2 along dimension 1\n",
    "t4 = torch.stack((t1, t2), dim=1)\n",
    "print(\"\\nStacked on dim=1:\")\n",
    "print(t4, t4.shape)"
   ]
  },
  {
   "cell_type": "markdown",
   "id": "c8785bd0",
   "metadata": {},
   "source": []
  }
 ],
 "metadata": {
  "kernelspec": {
   "display_name": "ml4co_cny",
   "language": "python",
   "name": "python3"
  },
  "language_info": {
   "codemirror_mode": {
    "name": "ipython",
    "version": 3
   },
   "file_extension": ".py",
   "mimetype": "text/x-python",
   "name": "python",
   "nbconvert_exporter": "python",
   "pygments_lexer": "ipython3",
   "version": "3.8.18"
  }
 },
 "nbformat": 4,
 "nbformat_minor": 5
}
